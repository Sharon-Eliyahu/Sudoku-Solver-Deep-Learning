{
 "cells": [
  {
   "cell_type": "markdown",
   "id": "ae811c39",
   "metadata": {},
   "source": [
    "# Sudoku Solver Project with Deep Learning \n",
    "### By Sharon Eliyahu"
   ]
  },
  {
   "cell_type": "markdown",
   "id": "4bab7bdc",
   "metadata": {
    "id": "da2358dc"
   },
   "source": [
    "# Import libreries"
   ]
  },
  {
   "cell_type": "code",
   "execution_count": 1,
   "id": "66451ba7",
   "metadata": {
    "id": "66451ba7"
   },
   "outputs": [],
   "source": [
    "import pandas as pd \n",
    "import numpy as np\n",
    "import matplotlib.pyplot as plt"
   ]
  },
  {
   "cell_type": "markdown",
   "id": "b4cbd422",
   "metadata": {},
   "source": [
    "# GPU search & colab "
   ]
  },
  {
   "cell_type": "code",
   "execution_count": 2,
   "id": "zSjc7BC7ius6",
   "metadata": {
    "id": "zSjc7BC7ius6"
   },
   "outputs": [],
   "source": [
    "# %tensorflow_version 2.x\n",
    "# import tensorflow as tf\n",
    "\n",
    "# device_name = tf.test.gpu_device_name()\n",
    "# if device_name != '/device:GPU:0':\n",
    "#   raise SystemError('GPU device not found')\n",
    "# print('Found GPU at: {}'.format(device_name),tf.__version__)"
   ]
  },
  {
   "cell_type": "code",
   "execution_count": 3,
   "id": "fvOrjIu-1TOJ",
   "metadata": {
    "colab": {
     "base_uri": "https://localhost:8080/"
    },
    "id": "fvOrjIu-1TOJ",
    "outputId": "5d36fae7-5854-4b4e-a61b-f3fc54b24b8c"
   },
   "outputs": [],
   "source": [
    "# from google.colab import drive\n",
    "# drive.mount('/content/drive')"
   ]
  },
  {
   "cell_type": "markdown",
   "id": "fb325ff4",
   "metadata": {},
   "source": [
    "# Import the Data"
   ]
  },
  {
   "cell_type": "code",
   "execution_count": 4,
   "id": "c753e8b4",
   "metadata": {
    "colab": {
     "base_uri": "https://localhost:8080/",
     "height": 206
    },
    "id": "c753e8b4",
    "outputId": "183e4344-2ada-43a6-d3d4-1c945acb060b",
    "scrolled": false
   },
   "outputs": [
    {
     "data": {
      "text/html": [
       "<div>\n",
       "<style scoped>\n",
       "    .dataframe tbody tr th:only-of-type {\n",
       "        vertical-align: middle;\n",
       "    }\n",
       "\n",
       "    .dataframe tbody tr th {\n",
       "        vertical-align: top;\n",
       "    }\n",
       "\n",
       "    .dataframe thead th {\n",
       "        text-align: right;\n",
       "    }\n",
       "</style>\n",
       "<table border=\"1\" class=\"dataframe\">\n",
       "  <thead>\n",
       "    <tr style=\"text-align: right;\">\n",
       "      <th></th>\n",
       "      <th>quizzes</th>\n",
       "      <th>solutions</th>\n",
       "    </tr>\n",
       "  </thead>\n",
       "  <tbody>\n",
       "    <tr>\n",
       "      <th>0</th>\n",
       "      <td>0043002090050090010700600430060020871900074000...</td>\n",
       "      <td>8643712593258497619712658434361925871986574322...</td>\n",
       "    </tr>\n",
       "    <tr>\n",
       "      <th>1</th>\n",
       "      <td>0401000501070039605200080000000000170009068008...</td>\n",
       "      <td>3461792581875239645296483719658324174729168358...</td>\n",
       "    </tr>\n",
       "    <tr>\n",
       "      <th>2</th>\n",
       "      <td>6001203840084590720000060050002640300700800069...</td>\n",
       "      <td>6951273841384596727248369158512647392739815469...</td>\n",
       "    </tr>\n",
       "    <tr>\n",
       "      <th>3</th>\n",
       "      <td>4972000001004000050000160986203000403009000000...</td>\n",
       "      <td>4972583161864397252537164986293815473759641828...</td>\n",
       "    </tr>\n",
       "    <tr>\n",
       "      <th>4</th>\n",
       "      <td>0059103080094030600275001000300002010008200070...</td>\n",
       "      <td>4659123781894735623275681497386452919548216372...</td>\n",
       "    </tr>\n",
       "  </tbody>\n",
       "</table>\n",
       "</div>"
      ],
      "text/plain": [
       "                                             quizzes  \\\n",
       "0  0043002090050090010700600430060020871900074000...   \n",
       "1  0401000501070039605200080000000000170009068008...   \n",
       "2  6001203840084590720000060050002640300700800069...   \n",
       "3  4972000001004000050000160986203000403009000000...   \n",
       "4  0059103080094030600275001000300002010008200070...   \n",
       "\n",
       "                                           solutions  \n",
       "0  8643712593258497619712658434361925871986574322...  \n",
       "1  3461792581875239645296483719658324174729168358...  \n",
       "2  6951273841384596727248369158512647392739815469...  \n",
       "3  4972583161864397252537164986293815473759641828...  \n",
       "4  4659123781894735623275681497386452919548216372...  "
      ]
     },
     "execution_count": 4,
     "metadata": {},
     "output_type": "execute_result"
    }
   ],
   "source": [
    "data  = pd.read_csv('sudoku.csv')\n",
    "data.head()"
   ]
  },
  {
   "cell_type": "markdown",
   "id": "3c054d11",
   "metadata": {
    "id": "144e8187"
   },
   "source": [
    "# Clean data if needed , convert board to array"
   ]
  },
  {
   "cell_type": "code",
   "execution_count": 5,
   "id": "83422cb8",
   "metadata": {
    "id": "83422cb8"
   },
   "outputs": [],
   "source": [
    "def convert_board(x):\n",
    "    try:\n",
    "        # gets str ['9999999'] ,splits it ,and returns array of int  -> [9,9,9,9,9,9,9,9] or null if failed\n",
    "        x = list(map(int,x))\n",
    "        return np.array(x) \n",
    "    except ValueError:\n",
    "        return np.nan"
   ]
  },
  {
   "cell_type": "code",
   "execution_count": 6,
   "id": "555de6e5",
   "metadata": {
    "id": "555de6e5"
   },
   "outputs": [],
   "source": [
    "data = data.applymap(lambda x: convert_board(x))\n",
    "data.dropna(inplace=True)"
   ]
  },
  {
   "cell_type": "markdown",
   "id": "ccc0c11e",
   "metadata": {
    "id": "ca96d637"
   },
   "source": [
    "# Split X&Y and reshaping data"
   ]
  },
  {
   "cell_type": "code",
   "execution_count": 7,
   "id": "27698f0f",
   "metadata": {
    "id": "27698f0f"
   },
   "outputs": [],
   "source": [
    "x_data = data['quizzes']\n",
    "y_data = data['solutions']"
   ]
  },
  {
   "cell_type": "code",
   "execution_count": 8,
   "id": "1945d6fd",
   "metadata": {},
   "outputs": [
    {
     "data": {
      "text/plain": [
       "array([0, 0, 4, 3, 0, 0, 2, 0, 9, 0, 0, 5, 0, 0, 9, 0, 0, 1, 0, 7, 0, 0,\n",
       "       6, 0, 0, 4, 3, 0, 0, 6, 0, 0, 2, 0, 8, 7, 1, 9, 0, 0, 0, 7, 4, 0,\n",
       "       0, 0, 5, 0, 0, 8, 3, 0, 0, 0, 6, 0, 0, 0, 0, 0, 1, 0, 5, 0, 0, 3,\n",
       "       5, 0, 8, 6, 9, 0, 0, 4, 2, 9, 1, 0, 3, 0, 0])"
      ]
     },
     "execution_count": 8,
     "metadata": {},
     "output_type": "execute_result"
    }
   ],
   "source": [
    "x_data[0]"
   ]
  },
  {
   "cell_type": "code",
   "execution_count": 9,
   "id": "9ed25a71",
   "metadata": {
    "id": "9ed25a71"
   },
   "outputs": [],
   "source": [
    "x_data = np.hstack(x_data)\n",
    "y_data = np.hstack(y_data)"
   ]
  },
  {
   "cell_type": "code",
   "execution_count": 10,
   "id": "870bb6df",
   "metadata": {
    "id": "870bb6df"
   },
   "outputs": [],
   "source": [
    "x_data = x_data.reshape(-1,9,9)\n",
    "y_data = y_data.reshape(-1,81)"
   ]
  },
  {
   "cell_type": "markdown",
   "id": "097374a3",
   "metadata": {},
   "source": [
    "# Apply to_categorical on Y Data"
   ]
  },
  {
   "cell_type": "code",
   "execution_count": 11,
   "id": "3ceb74dc",
   "metadata": {
    "id": "3ceb74dc"
   },
   "outputs": [],
   "source": [
    "from tensorflow.keras.utils import to_categorical"
   ]
  },
  {
   "cell_type": "code",
   "execution_count": 12,
   "id": "b1f45ca9",
   "metadata": {
    "id": "b1f45ca9"
   },
   "outputs": [],
   "source": [
    "# I added the -1 to get only 9 Labels, because 0-9 has 10 categories\n",
    "y_data = to_categorical(y_data - 1) "
   ]
  },
  {
   "cell_type": "code",
   "execution_count": 13,
   "id": "1f98c676",
   "metadata": {
    "id": "1f98c676"
   },
   "outputs": [],
   "source": [
    "from sklearn.model_selection import train_test_split"
   ]
  },
  {
   "cell_type": "code",
   "execution_count": 14,
   "id": "e85e3048",
   "metadata": {
    "id": "e85e3048"
   },
   "outputs": [],
   "source": [
    "X_train, X_test, Y_train, Y_test = train_test_split(x_data, y_data, test_size=0.1, random_state = 42)"
   ]
  },
  {
   "cell_type": "markdown",
   "id": "a4b04a5c",
   "metadata": {},
   "source": [
    "# Normalize the X Data"
   ]
  },
  {
   "cell_type": "code",
   "execution_count": 15,
   "id": "07295ad6",
   "metadata": {
    "id": "29dcfa84"
   },
   "outputs": [],
   "source": [
    "# sudoku has only numbers in range 1-9 , so we can divide all numbers by 9\n",
    "# and if we subtracting 0.5 we can make it 0 mean\n",
    "# which is better for the system and can help to the accuracy\n",
    "\n",
    "def normalize_data(x):\n",
    "    return np.array(x / 9) - 0.5\n",
    "\n",
    "def denormalize_data(x):\n",
    "    return (x + 0.5)  * 9"
   ]
  },
  {
   "cell_type": "code",
   "execution_count": 16,
   "id": "4fb246f6",
   "metadata": {
    "id": "4fb246f6"
   },
   "outputs": [],
   "source": [
    "X_train = normalize_data(X_train.reshape(-1,9,9,1))\n",
    "X_test = normalize_data(X_test.reshape(-1,9,9,1))"
   ]
  },
  {
   "cell_type": "markdown",
   "id": "e5f34227",
   "metadata": {},
   "source": [
    "# Building the model"
   ]
  },
  {
   "cell_type": "code",
   "execution_count": 17,
   "id": "fcf099cc",
   "metadata": {
    "id": "fcf099cc"
   },
   "outputs": [],
   "source": [
    "# After building several models this is my optimal model.\n",
    "# I inserted the game shape layer as 1,9,9,1\n",
    "# After that, taking into account the sudoku rules and the input shape, I added several\n",
    "# convolution layers with 64 filters in different shapes.\n",
    "# I used the 'Relo' activation to get a result between 0 and 1.\n",
    "# I then summed with a 1,1 convolution layer and 128 filters to get a layer \n",
    "# for each number on the board\n",
    "# After each layer I normalized the result with BatchNormalization() to get closer to 0 or 1\n",
    "# After the convolution layers I turned everything into 1D with Flatten.\n",
    "# Because we have 81 numbers to predict and each number has 9 different lables \n",
    "# The output layer will be 81*9 in a shape of 81,9 with softmax activation\n",
    "# to get a probability result between 0-1 for each of the labels.\n",
    "# I use categorical_crossentropy because I want to do multi-classification \n",
    "# and I have more than one label.\n",
    "\n",
    "import keras\n",
    "from keras.layers import Activation\n",
    "from keras.layers import Conv2D, BatchNormalization, Dense, Flatten, Reshape, Dropout\n",
    "\n",
    "model = keras.models.Sequential()\n",
    "model.add(Conv2D(64, kernel_size=(3,3), activation='relu', input_shape=(9,9,1), padding='same'))\n",
    "model.add(BatchNormalization())\n",
    "model.add(Conv2D(64, kernel_size=(1,9), activation='relu', padding='same'))\n",
    "model.add(BatchNormalization())\n",
    "model.add(Conv2D(64, kernel_size=(9,1), activation='relu', padding='same'))\n",
    "model.add(BatchNormalization())\n",
    "model.add(Conv2D(64, kernel_size=(3,3), activation='relu', padding='same'))\n",
    "model.add(BatchNormalization())\n",
    "model.add(Conv2D(128, kernel_size=(1,1), activation='relu', padding='same'))\n",
    "model.add(BatchNormalization())\n",
    "model.add(Flatten())\n",
    "model.add(Dense(81*9))\n",
    "model.add(Reshape((-1, 9)))\n",
    "model.add(Activation('softmax'))\n",
    "model.compile(loss='categorical_crossentropy', optimizer='adam',metrics=['accuracy'])"
   ]
  },
  {
   "cell_type": "code",
   "execution_count": 18,
   "id": "c8302b2e",
   "metadata": {
    "colab": {
     "base_uri": "https://localhost:8080/"
    },
    "id": "c8302b2e",
    "outputId": "6d27fa92-77f3-48f4-ce21-97ae0bb830aa",
    "scrolled": true
   },
   "outputs": [
    {
     "name": "stdout",
     "output_type": "stream",
     "text": [
      "Model: \"sequential\"\n",
      "_________________________________________________________________\n",
      " Layer (type)                Output Shape              Param #   \n",
      "=================================================================\n",
      " conv2d (Conv2D)             (None, 9, 9, 64)          640       \n",
      "                                                                 \n",
      " batch_normalization (BatchN  (None, 9, 9, 64)         256       \n",
      " ormalization)                                                   \n",
      "                                                                 \n",
      " conv2d_1 (Conv2D)           (None, 9, 9, 64)          36928     \n",
      "                                                                 \n",
      " batch_normalization_1 (Batc  (None, 9, 9, 64)         256       \n",
      " hNormalization)                                                 \n",
      "                                                                 \n",
      " conv2d_2 (Conv2D)           (None, 9, 9, 64)          36928     \n",
      "                                                                 \n",
      " batch_normalization_2 (Batc  (None, 9, 9, 64)         256       \n",
      " hNormalization)                                                 \n",
      "                                                                 \n",
      " conv2d_3 (Conv2D)           (None, 9, 9, 64)          36928     \n",
      "                                                                 \n",
      " batch_normalization_3 (Batc  (None, 9, 9, 64)         256       \n",
      " hNormalization)                                                 \n",
      "                                                                 \n",
      " conv2d_4 (Conv2D)           (None, 9, 9, 128)         8320      \n",
      "                                                                 \n",
      " batch_normalization_4 (Batc  (None, 9, 9, 128)        512       \n",
      " hNormalization)                                                 \n",
      "                                                                 \n",
      " flatten (Flatten)           (None, 10368)             0         \n",
      "                                                                 \n",
      " dense (Dense)               (None, 729)               7559001   \n",
      "                                                                 \n",
      " reshape (Reshape)           (None, 81, 9)             0         \n",
      "                                                                 \n",
      " activation (Activation)     (None, 81, 9)             0         \n",
      "                                                                 \n",
      "=================================================================\n",
      "Total params: 7,680,281\n",
      "Trainable params: 7,679,513\n",
      "Non-trainable params: 768\n",
      "_________________________________________________________________\n"
     ]
    }
   ],
   "source": [
    "model.summary()"
   ]
  },
  {
   "cell_type": "markdown",
   "id": "7d0b8b71",
   "metadata": {},
   "source": [
    "# Training the model"
   ]
  },
  {
   "cell_type": "code",
   "execution_count": 19,
   "id": "6d3dbd16",
   "metadata": {
    "id": "6d3dbd16"
   },
   "outputs": [],
   "source": [
    "from tensorflow.keras.callbacks import EarlyStopping"
   ]
  },
  {
   "cell_type": "code",
   "execution_count": 20,
   "id": "f983ffa8",
   "metadata": {
    "id": "f983ffa8"
   },
   "outputs": [],
   "source": [
    "#EarlyStopping is used to help avoid over fitting and wasting time\n",
    "# by stopping the training when the monitor cant get any better from epoch to epoch\n",
    "early_stop = EarlyStopping(monitor='val_loss',patience=2,verbose=1)"
   ]
  },
  {
   "cell_type": "code",
   "execution_count": 21,
   "id": "bec1dd4b",
   "metadata": {},
   "outputs": [],
   "source": [
    "# Because my data is large, I use a batch size that is quite large.\n",
    "# The advantage is that the system will learn the data faster. \n",
    "# Validation loss will vary more proportionally.\n",
    "# Something that will help stop the train in a more optimal point"
   ]
  },
  {
   "cell_type": "code",
   "execution_count": 22,
   "id": "d6b6d729",
   "metadata": {
    "colab": {
     "base_uri": "https://localhost:8080/"
    },
    "id": "d6b6d729",
    "outputId": "368ff808-d308-4bcf-ee78-990177c5ec21"
   },
   "outputs": [],
   "source": [
    "#model.fit(X_train,Y_train,epochs=30,batch_size=256, validation_data=(X_test,Y_test),callbacks=[early_stop])"
   ]
  },
  {
   "cell_type": "markdown",
   "id": "cf8f03f3",
   "metadata": {},
   "source": [
    "# Saving and evaluate the model"
   ]
  },
  {
   "cell_type": "code",
   "execution_count": 23,
   "id": "7f1dd70f",
   "metadata": {
    "id": "7f1dd70f"
   },
   "outputs": [],
   "source": [
    "#model.save('sudoku_model.h5')"
   ]
  },
  {
   "cell_type": "code",
   "execution_count": 24,
   "id": "4ebbd209",
   "metadata": {
    "id": "4ebbd209"
   },
   "outputs": [],
   "source": [
    "#history = pd.DataFrame(model.history.history)"
   ]
  },
  {
   "cell_type": "code",
   "execution_count": 25,
   "id": "32a01448",
   "metadata": {
    "id": "32a01448"
   },
   "outputs": [],
   "source": [
    "#history.to_csv('sudoku_model.csv')"
   ]
  },
  {
   "cell_type": "code",
   "execution_count": 26,
   "id": "a02984fe",
   "metadata": {},
   "outputs": [],
   "source": [
    "history = pd.read_csv('sudoku_model.csv')"
   ]
  },
  {
   "cell_type": "markdown",
   "id": "fbd1a7ae",
   "metadata": {},
   "source": [
    "# We can see that the val_loss get to its minimal point and stops \n",
    "# so we are not in overfit :)\n",
    "# and the model is pretty accurate"
   ]
  },
  {
   "cell_type": "code",
   "execution_count": 27,
   "id": "2e14412e",
   "metadata": {},
   "outputs": [
    {
     "data": {
      "text/plain": [
       "<matplotlib.legend.Legend at 0x1583909ec10>"
      ]
     },
     "execution_count": 27,
     "metadata": {},
     "output_type": "execute_result"
    },
    {
     "data": {
      "image/png": "[encoded data removed]",
      "text/plain": [
       "<Figure size 640x480 with 1 Axes>"
      ]
     },
     "metadata": {},
     "output_type": "display_data"
    }
   ],
   "source": [
    "plt.plot(history[['loss','val_loss']])\n",
    "plt.legend(['loss','val_loss'])"
   ]
  },
  {
   "cell_type": "code",
   "execution_count": 28,
   "id": "s-8KIb1SpoSQ",
   "metadata": {
    "colab": {
     "base_uri": "https://localhost:8080/",
     "height": 312
    },
    "id": "s-8KIb1SpoSQ",
    "outputId": "19748936-31cc-44d9-f0fa-7552a34d2f02"
   },
   "outputs": [
    {
     "data": {
      "text/plain": [
       "<matplotlib.legend.Legend at 0x15838e2ff40>"
      ]
     },
     "execution_count": 28,
     "metadata": {},
     "output_type": "execute_result"
    },
    {
     "data": {
      "image/png": "[encoded data removed]",
      "text/plain": [
       "<Figure size 640x480 with 1 Axes>"
      ]
     },
     "metadata": {},
     "output_type": "display_data"
    }
   ],
   "source": [
    "history[['accuracy','val_accuracy']].plot()\n",
    "plt.legend(['accuracy','val_accuracy'])"
   ]
  },
  {
   "cell_type": "markdown",
   "id": "0cf274fe",
   "metadata": {},
   "source": [
    "# Load model and functions"
   ]
  },
  {
   "cell_type": "code",
   "execution_count": 29,
   "id": "46428ab6",
   "metadata": {
    "id": "46428ab6"
   },
   "outputs": [],
   "source": [
    "from tensorflow.keras.models import load_model\n",
    "l_model = load_model('sudoku_model.h5')"
   ]
  },
  {
   "cell_type": "code",
   "execution_count": 30,
   "id": "33212326",
   "metadata": {},
   "outputs": [
    {
     "name": "stdout",
     "output_type": "stream",
     "text": [
      "3125/3125 [==============================] - 37s 12ms/step - loss: 0.1938 - accuracy: 0.9218\n"
     ]
    },
    {
     "data": {
      "text/plain": [
       "[0.19381727278232574, 0.921787679195404]"
      ]
     },
     "execution_count": 30,
     "metadata": {},
     "output_type": "execute_result"
    }
   ],
   "source": [
    "l_model.evaluate(X_test,Y_test)"
   ]
  },
  {
   "cell_type": "code",
   "execution_count": 31,
   "id": "869f5843",
   "metadata": {
    "id": "869f5843"
   },
   "outputs": [],
   "source": [
    "def prob(x, minimum = 0.99):\n",
    "    if x > minimum:\n",
    "        return 1\n",
    "    else:\n",
    "        return 0"
   ]
  },
  {
   "cell_type": "code",
   "execution_count": 32,
   "id": "2a90cbdb",
   "metadata": {},
   "outputs": [],
   "source": [
    "def print_board(array):\n",
    "    s = ''''''\n",
    "    array = array.astype(int)\n",
    "    for i in range(0,array.shape[0],3):\n",
    "        s = s + str(array[i:i+3])  \n",
    "        if (i + 3) % 9 == 0 and i > 0:\n",
    "            s = s + '\\n'\n",
    "        else:\n",
    "            s = s + ' | '\n",
    "        if (i + 3) % 27 == 0 and i < 78:\n",
    "            s = s + '- - - - - - - - - - -\\n'\n",
    "    print(s.replace('[',\"\").replace(']',\"\"))"
   ]
  },
  {
   "cell_type": "code",
   "execution_count": 33,
   "id": "ade35f06",
   "metadata": {
    "id": "82f6f586"
   },
   "outputs": [],
   "source": [
    "def predict(game,prob_rate):\n",
    "# this function gets an array of a sudoku game ,normalize it and predict it\n",
    "# I have set a minimum to the hottest vectors in the main function in order to control it during the pred sycels\n",
    "# whats under the minimum will return 0 , in order to return 0 we have to add a '0' catagory \n",
    "# becuase we only have 1-9 catagories. only we can control the 0 label , the system will keep returning 9 labels\n",
    "    game = normalize_data(game)\n",
    "    game = game.reshape(1,9,9,1)\n",
    "    pred = l_model.predict(game,verbose=0).reshape(81,9)\n",
    "    pred = pd.DataFrame(pred).applymap(lambda x: prob(x, prob_rate))\n",
    "    pred = np.concatenate((np.zeros(81).reshape(81,1), pred), axis=1)\n",
    "    pred = np.argmax(np.array(pred),axis=1) \n",
    "    return pred"
   ]
  },
  {
   "cell_type": "code",
   "execution_count": 34,
   "id": "a9f7bbc1",
   "metadata": {
    "id": "a9f7bbc1",
    "scrolled": true
   },
   "outputs": [],
   "source": [
    "def solve_game(game,as_string=False):\n",
    "#this function gets an array of 81 numbers that are an unsolved sudoku game, and returns a\n",
    "#solved\\unsolved game as array of 81 numbers.\n",
    "# in order to increase our accuarcy we need to predict several times the board and set a minimum to the hottest vectors,\n",
    "# and each time get closer to the answare by getting only numbers that has at least 99 % probebility to be true for start.\n",
    "# and then lower the probability dynamically.\n",
    "# if the system won't be able to solve, the loop will break after 4 diffrent predicts sycle.\n",
    "# each sycle tries 20 predictions. in every prediction the the minimum will decreese by 0.5.\n",
    "# and in each predict sycle, the start minimum will decreese by 4% to allow more predictions.\n",
    "    if as_string:\n",
    "        game = convert_board(game)       \n",
    "    board = game\n",
    "    board = board.reshape(81)\n",
    "    unsoloved = True\n",
    "    count = 0\n",
    "    tries = 0\n",
    "    success = False\n",
    "    prob_min = 0.99\n",
    "    #mask the board in order to keep quizs pos\n",
    "    mask = np.ma.masked_array(board, mask= board == 0)\n",
    "    s_mask = np.ma.sum(mask == board)\n",
    "    while unsoloved:\n",
    "        pred = predict(board , prob_min)\n",
    "        prob_min -= 0.005\n",
    "        pos_check = (mask == pred)\n",
    "        #sum the number of true positions\n",
    "        s_pos_check = np.ma.sum(pos_check)\n",
    "        count += 1\n",
    "        #if the game is solved the sum of each column and row is 45\n",
    "        #sum the number of true columns and rows (if the sum of the col or row is 45 so return True)\n",
    "        #we have to get 9 true cols and 9 true rows\n",
    "        col = sum(np.unique(pred.reshape(9,9),axis=1)) == 45\n",
    "        row = sum(np.unique(pred.reshape(9,9),axis=0)) == 45\n",
    "        if col.sum() == row.sum() == 9 and s_mask == s_pos_check:\n",
    "            unsoloved = False \n",
    "            success = True\n",
    "            if as_string:\n",
    "                print_board(pred.reshape(81))\n",
    "                return 'Solved'\n",
    "            return pred, success\n",
    "        elif count > 20:\n",
    "            if tries > 4:\n",
    "                unsoloved = False\n",
    "                success = False\n",
    "                return game, success\n",
    "            else:\n",
    "                tries += 1\n",
    "                prob_min = 0.99 - (tries * 0.04)\n",
    "                count = 0\n",
    "                board = game\n",
    "        else:\n",
    "            board = pred\n",
    "            \n",
    "    "
   ]
  },
  {
   "cell_type": "markdown",
   "id": "ce13f3f4",
   "metadata": {},
   "source": [
    "# Solve 1 String game"
   ]
  },
  {
   "cell_type": "code",
   "execution_count": 35,
   "id": "1d333e8a",
   "metadata": {
    "scrolled": true
   },
   "outputs": [
    {
     "name": "stdout",
     "output_type": "stream",
     "text": [
      "1 8 4 | 7 5 3 | 2 9 6\n",
      "5 2 3 | 4 6 9 | 1 7 8\n",
      "6 9 7 | 2 8 1 | 5 4 3\n",
      "- - - - - - - - - - -\n",
      "8 7 5 | 3 1 2 | 9 6 4\n",
      "9 6 1 | 5 4 7 | 3 8 2\n",
      "4 3 2 | 6 9 8 | 7 1 5\n",
      "- - - - - - - - - - -\n",
      "7 5 9 | 8 3 4 | 6 2 1\n",
      "3 1 8 | 9 2 6 | 4 5 7\n",
      "2 4 6 | 1 7 5 | 8 3 9\n",
      "\n"
     ]
    },
    {
     "data": {
      "text/plain": [
       "'Solved'"
      ]
     },
     "execution_count": 35,
     "metadata": {},
     "output_type": "execute_result"
    }
   ],
   "source": [
    "#if giving a string MUST give as_string =True\n",
    "game = '000700096003069178007200500075000000901000300000000000009000001318020407240005000'\n",
    "solve_game(game,as_string=True)"
   ]
  },
  {
   "cell_type": "markdown",
   "id": "a92d7c43",
   "metadata": {},
   "source": [
    "# Test X Games -> can be change in total_test \n",
    "## *note ->gets a normalized data from X_test that was previously loaded\n",
    "## I tested 20K games and the system were able to solve 97% of the games"
   ]
  },
  {
   "cell_type": "code",
   "execution_count": 36,
   "id": "e5b0f08c",
   "metadata": {},
   "outputs": [],
   "source": [
    "import time\n",
    "total_test = 10 #number of tests"
   ]
  },
  {
   "cell_type": "code",
   "execution_count": 37,
   "id": "N1N-Dxfqz4yr",
   "metadata": {
    "colab": {
     "base_uri": "https://localhost:8080/"
    },
    "id": "N1N-Dxfqz4yr",
    "outputId": "56ef6d58-d6ca-41e0-bf58-5d99af6118ab"
   },
   "outputs": [
    {
     "name": "stdout",
     "output_type": "stream",
     "text": [
      "Solving : 1/10 ... \n",
      "\n",
      "6 2 4 | 5 1 3 | 7 9 8\n",
      "7 8 5 | 2 4 9 | 3 1 6\n",
      "9 1 3 | 7 8 6 | 4 5 2\n",
      "- - - - - - - - - - -\n",
      "8 3 2 | 9 6 1 | 5 4 7\n",
      "5 7 9 | 3 2 4 | 8 6 1\n",
      "4 6 1 | 8 7 5 | 2 3 9\n",
      "- - - - - - - - - - -\n",
      "1 4 7 | 6 3 2 | 9 8 5\n",
      "3 9 8 | 1 5 7 | 6 2 4\n",
      "2 5 6 | 4 9 8 | 1 7 3\n",
      "\n",
      "successed in total time:  0.94  seconds\n",
      "tested games accuarcy:  100.0 %\n",
      "Average time to solve 1 game true: 0.94 seconds \n",
      "\n",
      "Solving : 2/10 ... \n",
      "\n",
      "2 1 6 | 9 8 4 | 5 3 7\n",
      "9 5 4 | 2 3 7 | 6 8 1\n",
      "7 8 3 | 5 6 1 | 9 2 4\n",
      "- - - - - - - - - - -\n",
      "5 6 9 | 1 4 3 | 8 7 2\n",
      "1 7 2 | 6 5 8 | 4 9 3\n",
      "3 4 8 | 7 2 9 | 1 6 5\n",
      "- - - - - - - - - - -\n",
      "6 9 5 | 3 1 2 | 7 4 8\n",
      "4 2 7 | 8 9 5 | 3 1 6\n",
      "8 3 1 | 4 7 6 | 2 5 9\n",
      "\n",
      "successed in total time:  0.15  seconds\n",
      "tested games accuarcy:  100.0 %\n",
      "Average time to solve 1 game true: 0.55 seconds \n",
      "\n",
      "Solving : 3/10 ... \n",
      "\n",
      "8 5 1 | 2 3 9 | 4 6 7\n",
      "3 4 9 | 7 6 8 | 1 5 2\n",
      "6 7 2 | 5 4 1 | 3 8 9\n",
      "- - - - - - - - - - -\n",
      "1 2 4 | 8 5 6 | 9 7 3\n",
      "9 3 6 | 1 7 2 | 5 4 8\n",
      "7 8 5 | 3 9 4 | 6 2 1\n",
      "- - - - - - - - - - -\n",
      "5 9 3 | 4 8 7 | 2 1 6\n",
      "2 6 8 | 9 1 5 | 7 3 4\n",
      "4 1 7 | 6 2 3 | 8 9 5\n",
      "\n",
      "successed in total time:  0.2  seconds\n",
      "tested games accuarcy:  100.0 %\n",
      "Average time to solve 1 game true: 0.43 seconds \n",
      "\n",
      "Solving : 4/10 ... \n",
      "\n",
      "9 6 3 | 1 8 7 | 5 2 4\n",
      "5 4 2 | 9 3 6 | 8 7 1\n",
      "7 8 1 | 4 2 5 | 3 9 6\n",
      "- - - - - - - - - - -\n",
      "8 9 7 | 3 4 1 | 2 6 5\n",
      "2 5 4 | 6 7 8 | 9 1 3\n",
      "1 3 6 | 5 9 2 | 7 4 8\n",
      "- - - - - - - - - - -\n",
      "4 7 9 | 8 1 3 | 6 5 2\n",
      "6 1 8 | 2 5 9 | 4 3 7\n",
      "3 2 5 | 7 6 4 | 1 8 9\n",
      "\n",
      "successed in total time:  0.23  seconds\n",
      "tested games accuarcy:  100.0 %\n",
      "Average time to solve 1 game true: 0.38 seconds \n",
      "\n",
      "Solving : 5/10 ... \n",
      "\n",
      "5 9 8 | 2 7 3 | 1 4 6\n",
      "2 3 4 | 5 6 1 | 8 9 7\n",
      "1 7 6 | 4 8 9 | 5 3 2\n",
      "- - - - - - - - - - -\n",
      "9 2 5 | 6 3 4 | 7 1 8\n",
      "8 1 7 | 9 5 2 | 3 6 4\n",
      "4 6 3 | 8 1 7 | 9 2 5\n",
      "- - - - - - - - - - -\n",
      "3 5 1 | 7 2 6 | 4 8 9\n",
      "7 4 2 | 1 9 8 | 6 5 3\n",
      "6 8 9 | 3 4 5 | 2 7 1\n",
      "\n",
      "successed in total time:  0.91  seconds\n",
      "tested games accuarcy:  100.0 %\n",
      "Average time to solve 1 game true: 0.49 seconds \n",
      "\n",
      "Solving : 6/10 ... \n",
      "\n",
      "3 4 5 | 1 9 6 | 7 8 2\n",
      "9 6 7 | 2 8 3 | 5 4 1\n",
      "1 2 8 | 5 4 7 | 3 9 6\n",
      "- - - - - - - - - - -\n",
      "6 7 9 | 4 1 2 | 8 3 5\n",
      "4 3 1 | 8 7 5 | 6 2 9\n",
      "8 5 2 | 6 3 9 | 1 7 4\n",
      "- - - - - - - - - - -\n",
      "5 8 6 | 7 2 4 | 9 1 3\n",
      "2 1 3 | 9 6 8 | 4 5 7\n",
      "7 9 4 | 3 5 1 | 2 6 8\n",
      "\n",
      "successed in total time:  0.14  seconds\n",
      "tested games accuarcy:  100.0 %\n",
      "Average time to solve 1 game true: 0.43 seconds \n",
      "\n",
      "Solving : 7/10 ... \n",
      "\n",
      "4 2 3 | 5 8 6 | 1 9 7\n",
      "6 9 7 | 1 3 4 | 8 2 5\n",
      "5 1 8 | 7 9 2 | 6 4 3\n",
      "- - - - - - - - - - -\n",
      "1 7 2 | 4 6 8 | 5 3 9\n",
      "3 4 9 | 2 1 5 | 7 8 6\n",
      "8 5 6 | 9 7 3 | 4 1 2\n",
      "- - - - - - - - - - -\n",
      "9 8 5 | 6 2 1 | 3 7 4\n",
      "2 3 4 | 8 5 7 | 9 6 1\n",
      "7 6 1 | 3 4 9 | 2 5 8\n",
      "\n",
      "successed in total time:  0.12  seconds\n",
      "tested games accuarcy:  100.0 %\n",
      "Average time to solve 1 game true: 0.39 seconds \n",
      "\n",
      "Solving : 8/10 ... \n",
      "\n",
      "6 4 7 | 5 8 2 | 9 3 1\n",
      "2 9 3 | 7 1 4 | 8 6 5\n",
      "1 5 8 | 6 9 3 | 4 2 7\n",
      "- - - - - - - - - - -\n",
      "4 3 6 | 2 5 7 | 1 9 8\n",
      "7 1 2 | 9 4 8 | 3 5 6\n",
      "5 8 9 | 3 6 1 | 7 4 2\n",
      "- - - - - - - - - - -\n",
      "8 6 5 | 1 3 9 | 2 7 4\n",
      "3 7 4 | 8 2 6 | 5 1 9\n",
      "9 2 1 | 4 7 5 | 6 8 3\n",
      "\n",
      "successed in total time:  0.93  seconds\n",
      "tested games accuarcy:  100.0 %\n",
      "Average time to solve 1 game true: 0.45 seconds \n",
      "\n",
      "Solving : 9/10 ... \n",
      "\n",
      "5 9 1 | 2 4 6 | 8 3 7\n",
      "3 4 8 | 1 7 9 | 6 5 2\n",
      "2 7 6 | 3 5 8 | 1 4 9\n",
      "- - - - - - - - - - -\n",
      "4 3 7 | 5 2 1 | 9 8 6\n",
      "8 1 2 | 9 6 3 | 5 7 4\n",
      "6 5 9 | 4 8 7 | 2 1 3\n",
      "- - - - - - - - - - -\n",
      "9 2 5 | 8 3 4 | 7 6 1\n",
      "1 6 4 | 7 9 5 | 3 2 8\n",
      "7 8 3 | 6 1 2 | 4 9 5\n",
      "\n",
      "successed in total time:  0.17  seconds\n",
      "tested games accuarcy:  100.0 %\n",
      "Average time to solve 1 game true: 0.42 seconds \n",
      "\n",
      "Solving : 10/10 ... \n",
      "\n",
      "3 9 5 | 1 4 6 | 8 2 7\n",
      "7 6 2 | 9 8 3 | 4 1 5\n",
      "8 1 4 | 2 5 7 | 3 9 6\n",
      "- - - - - - - - - - -\n",
      "9 3 7 | 5 1 8 | 6 4 2\n",
      "6 4 8 | 3 9 2 | 5 7 1\n",
      "5 2 1 | 7 6 4 | 9 8 3\n",
      "- - - - - - - - - - -\n",
      "4 5 6 | 8 7 1 | 2 3 9\n",
      "2 7 9 | 4 3 5 | 1 6 8\n",
      "1 8 3 | 6 2 9 | 7 5 4\n",
      "\n",
      "successed in total time:  0.2  seconds\n",
      "tested games accuarcy:  100.0 %\n",
      "Average time to solve 1 game true: 0.4 seconds \n",
      "\n"
     ]
    }
   ],
   "source": [
    "tested_games = []\n",
    "true_count = 0\n",
    "count = 0 \n",
    "tests = denormalize_data(X_test[:total_test])\n",
    "for test in tests:\n",
    "    s_t = time.time()\n",
    "    count += 1\n",
    "    print(f'Solving : {count}/{total_test} ... \\n')\n",
    "    pred , success= solve_game(test)\n",
    "    \n",
    "    if success:\n",
    "        true_count += 1\n",
    "        print_board(pred.reshape(81))\n",
    "        tested_games.append(time.time() - s_t) \n",
    "        print(\"successed in total time: \",round(time.time() - s_t,2), \" seconds\")\n",
    "    else:\n",
    "        print(f'Failed at game {count}')\n",
    "    print('tested games accuarcy: ', round(true_count / count * 100,2),'%')\n",
    "    if true_count > 0:\n",
    "        print(f'Average time to solve 1 game true: {round(sum(tested_games) / true_count,2)} seconds \\n')\n",
    "    \n"
   ]
  },
  {
   "cell_type": "code",
   "execution_count": null,
   "id": "a6736ce6",
   "metadata": {},
   "outputs": [],
   "source": []
  }
 ],
 "metadata": {
  "accelerator": "GPU",
  "colab": {
   "machine_shape": "hm",
   "provenance": []
  },
  "gpuClass": "premium",
  "kernelspec": {
   "display_name": "Python 3 (ipykernel)",
   "language": "python",
   "name": "python3"
  },
  "language_info": {
   "codemirror_mode": {
    "name": "ipython",
    "version": 3
   },
   "file_extension": ".py",
   "mimetype": "text/x-python",
   "name": "python",
   "nbconvert_exporter": "python",
   "pygments_lexer": "ipython3",
   "version": "3.8.16"
  }
 },
 "nbformat": 4,
 "nbformat_minor": 5
}
